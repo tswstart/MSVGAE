{
 "cells": [
  {
   "cell_type": "code",
   "execution_count": 1,
   "metadata": {
    "pycharm": {
     "name": "#%%\n"
    }
   },
   "outputs": [
    {
     "name": "stderr",
     "output_type": "stream",
     "text": [
      "UsageError: Line magic function `%` not found.\n"
     ]
    }
   ],
   "source": [
    "import matplotlib.pyplot as plt\n",
    "from collections import Counter\n",
    "import glob2\n",
    "import pandas as pd\n",
    "from tqdm.notebook import tqdm\n",
    "import h5py\n",
    "import numpy as np\n",
    "\n",
    "plt.ion()\n",
    "plt.show()\n",
    "% load_ext autoreload\n",
    "% autoreload 2\n"
   ]
  },
  {
   "cell_type": "code",
   "execution_count": 2,
   "metadata": {
    "pycharm": {
     "name": "#%%\n"
    }
   },
   "outputs": [],
   "source": [
    "from scipy.stats import skew, kurtosis\n",
    "from matplotlib.backends.backend_pdf import PdfPages"
   ]
  },
  {
   "cell_type": "code",
   "execution_count": 6,
   "metadata": {
    "pycharm": {
     "name": "#%%\n"
    }
   },
   "outputs": [
    {
     "name": "stdout",
     "output_type": "stream",
     "text": [
      "['data_-0.5c0.6', 'data_-0.5c0.7', 'data_-0.5c0.8', 'data_-0.5c0.9', 'data_-0.5c1', 'data_-1c0.6', 'data_-1c0.7', 'data_-1c0.8', 'data_-1c0.9', 'data_-1c1', 'data_0.5c0.6', 'data_0.5c0.7', 'data_0.5c0.8', 'data_0.5c0.9', 'data_0.5c1', 'data_0c0.6', 'data_0c0.7', 'data_0c0.8', 'data_0c0.9', 'data_0c1', 'data_1c0.6', 'data_1c0.7', 'data_1c0.8', 'data_1c0.9', 'data_1c1']\n"
     ]
    }
   ],
   "source": [
    "# category = \"real\"\n",
    "category = \"imbalanced\"\n",
    "# category = \"balanced\"\n",
    "path = \".\"\n",
    "if category in [\"balanced\", \"imbalanced\"]:\n",
    "    files = glob2.glob(f'{path}/{category}/*.h5')\n",
    "    files = [f[len(f\"{path}/{category}/\"):-3] for f in files]\n",
    "else:\n",
    "    files = glob2.glob(f'{path}/real/*.h5')\n",
    "    files = [f[len(f\"{path}/real/\"):-3] for f in files]\n",
    "print(files)"
   ]
  },
  {
   "cell_type": "code",
   "execution_count": 7,
   "metadata": {
    "scrolled": false,
    "pycharm": {
     "name": "#%%\n"
    }
   },
   "outputs": [
    {
     "data": {
      "text/plain": "  0%|          | 0/25 [00:00<?, ?it/s]",
      "application/vnd.jupyter.widget-view+json": {
       "version_major": 2,
       "version_minor": 0,
       "model_id": "376eefec005e4960b45cd0af82ff3a53"
      }
     },
     "metadata": {},
     "output_type": "display_data"
    },
    {
     "name": "stdout",
     "output_type": "stream",
     "text": [
      ">>>>dataset data_-0.5c0.6\n",
      ">>>>dataset data_-0.5c0.7\n",
      ">>>>dataset data_-0.5c0.8\n",
      ">>>>dataset data_-0.5c0.9\n",
      ">>>>dataset data_-0.5c1\n",
      ">>>>dataset data_-1c0.6\n",
      ">>>>dataset data_-1c0.7\n",
      ">>>>dataset data_-1c0.8\n",
      ">>>>dataset data_-1c0.9\n",
      ">>>>dataset data_-1c1\n",
      ">>>>dataset data_0.5c0.6\n",
      ">>>>dataset data_0.5c0.7\n",
      ">>>>dataset data_0.5c0.8\n",
      ">>>>dataset data_0.5c0.9\n",
      ">>>>dataset data_0.5c1\n",
      ">>>>dataset data_0c0.6\n",
      ">>>>dataset data_0c0.7\n",
      ">>>>dataset data_0c0.8\n",
      ">>>>dataset data_0c0.9\n",
      ">>>>dataset data_0c1\n",
      ">>>>dataset data_1c0.6\n",
      ">>>>dataset data_1c0.7\n",
      ">>>>dataset data_1c0.8\n",
      ">>>>dataset data_1c0.9\n",
      ">>>>dataset data_1c1\n"
     ]
    }
   ],
   "source": [
    "df = pd.DataFrame(columns=[\"dataset\", \"size\", \"nb_clusters\",\n",
    "                           \"sparsity\", \"non_zero_skew\",\n",
    "                           \"non_zero_kurosis\", \"max_value\", \"non_zero_mean\", \"non_zero_median\", \"dropout_rate\",\n",
    "                           \"cluster_sizes\", ])\n",
    "pdf = PdfPages(f'./output/{category}_data_distribution.pdf')\n",
    "for dataset in tqdm(files):\n",
    "    if category in [\"balanced\", \"imbalanced\"]:\n",
    "        data_mat = h5py.File(f\"{path}/{category}/{dataset}.h5\", \"r\")\n",
    "    else:\n",
    "        data_mat = h5py.File(f\"{path}/real_data/{dataset}.h5\", \"r\")\n",
    "\n",
    "    Y = np.array(data_mat['Y'])\n",
    "    X = np.array(data_mat['X'])\n",
    "    dropout_rate = np.array(data_mat['dropout'])\n",
    "    print(f\">>>>dataset {dataset}\")\n",
    "\n",
    "    if category == \"real\" and X.shape[0] > 20000:\n",
    "        continue\n",
    "    n_clusters = np.unique(Y).shape[0]\n",
    "    sparsity = len(np.where(X == 0)[0]) / (X.shape[0] * X.shape[1])\n",
    "    # X = np.log1p(X)\n",
    "    max_value = int(np.max(X))\n",
    "    non_zero = X[np.where(X != 0)]\n",
    "    non_zero_mean = np.mean(non_zero)\n",
    "    non_zero_median = np.median(non_zero)\n",
    "    non_zero_skew = skew(non_zero)\n",
    "    non_zero_kurosis = kurtosis(non_zero)\n",
    "    df.loc[df.shape[0]] = [\n",
    "        dataset, f\"{X.shape[0]} x {X.shape[1]}\", n_clusters,\n",
    "\n",
    "        sparsity, non_zero_skew, non_zero_kurosis, max_value, non_zero_mean, non_zero_median, dropout_rate,\n",
    "        list(zip(*Counter(Y).most_common()))[1]]\n",
    "\n",
    "    fig = plt.figure()\n",
    "    plt.hist(non_zero, bins=30, log=True)\n",
    "    plt.xlabel(\"expression values\")\n",
    "    plt.ylabel(\"log counts\")\n",
    "    plt.title(dataset)\n",
    "    plt.close()\n",
    "    pdf.savefig(fig)\n",
    "\n",
    "pdf.close()\n",
    "df.sort_values(by=\"nb_clusters\").reset_index(\n",
    "    drop=True).to_csv(f\"./output/description_{category}.csv\")"
   ]
  },
  {
   "cell_type": "code",
   "execution_count": null,
   "metadata": {
    "pycharm": {
     "name": "#%%\n"
    }
   },
   "outputs": [],
   "source": []
  }
 ],
 "metadata": {
  "kernelspec": {
   "name": "scvi-env",
   "language": "python",
   "display_name": "scvi-env"
  },
  "language_info": {
   "codemirror_mode": {
    "name": "ipython",
    "version": 3
   },
   "file_extension": ".py",
   "mimetype": "text/x-python",
   "name": "python",
   "nbconvert_exporter": "python",
   "pygments_lexer": "ipython3",
   "version": "3.7.4"
  }
 },
 "nbformat": 4,
 "nbformat_minor": 4
}